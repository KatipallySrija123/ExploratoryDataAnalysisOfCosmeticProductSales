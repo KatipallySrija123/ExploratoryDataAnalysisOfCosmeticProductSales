{
 "cells": [
  {
   "cell_type": "code",
   "execution_count": 4,
   "metadata": {},
   "outputs": [],
   "source": [
    "import pandas as pd\n",
    "import pprint\n",
    "# import matplotlib as plt\n",
    "import matplotlib.pyplot as plt\n",
    "import seaborn as sns\n",
    "pp = pprint.PrettyPrinter(indent =4)"
   ]
  },
  {
   "cell_type": "code",
   "execution_count": 5,
   "metadata": {},
   "outputs": [],
   "source": [
    "Amazon_beauty_data= pd.read_csv('C:/Users/DELL/Desktop/major_project/datafiles/dfiles/Final_Beauty_Data.csv')"
   ]
  },
  {
   "cell_type": "code",
   "execution_count": 3,
   "metadata": {},
   "outputs": [
    {
     "data": {
      "text/html": [
       "<div>\n",
       "<style scoped>\n",
       "    .dataframe tbody tr th:only-of-type {\n",
       "        vertical-align: middle;\n",
       "    }\n",
       "\n",
       "    .dataframe tbody tr th {\n",
       "        vertical-align: top;\n",
       "    }\n",
       "\n",
       "    .dataframe thead th {\n",
       "        text-align: right;\n",
       "    }\n",
       "</style>\n",
       "<table border=\"1\" class=\"dataframe\">\n",
       "  <thead>\n",
       "    <tr style=\"text-align: right;\">\n",
       "      <th></th>\n",
       "      <th>Unnamed: 0</th>\n",
       "      <th>asin</th>\n",
       "      <th>helpful</th>\n",
       "      <th>Not helpful</th>\n",
       "      <th>review_concat</th>\n",
       "      <th>summary_concat</th>\n",
       "      <th>overall rating</th>\n",
       "      <th>name</th>\n",
       "      <th>category</th>\n",
       "      <th>description</th>\n",
       "      <th>price</th>\n",
       "      <th>rating</th>\n",
       "      <th>No_of_Rating</th>\n",
       "    </tr>\n",
       "  </thead>\n",
       "  <tbody>\n",
       "    <tr>\n",
       "      <th>0</th>\n",
       "      <td>0</td>\n",
       "      <td>B001B7GJ2E</td>\n",
       "      <td>1.7</td>\n",
       "      <td>2.2</td>\n",
       "      <td>amazing tool hat like little curve end side ma...</td>\n",
       "      <td>amazing attention mom help teen prevent pockma...</td>\n",
       "      <td>5</td>\n",
       "      <td>Body Toolz Double Loop Facial Skin Care Tool</td>\n",
       "      <td>Tools &amp; Accessories</td>\n",
       "      <td>Brand\\n\\n\\nBody Toolz\\n\\n\\n\\n\\nMaterial\\n\\n\\nS...</td>\n",
       "      <td>7.75</td>\n",
       "      <td>4.1</td>\n",
       "      <td>673</td>\n",
       "    </tr>\n",
       "    <tr>\n",
       "      <th>1</th>\n",
       "      <td>1</td>\n",
       "      <td>B0019IVEEI</td>\n",
       "      <td>0.6</td>\n",
       "      <td>0.7</td>\n",
       "      <td>perfect color contouring ashybrownno orange pu...</td>\n",
       "      <td>perfect color contouring ashybrownno orange wo...</td>\n",
       "      <td>5</td>\n",
       "      <td>theBalm Bahama Mama Bronzer</td>\n",
       "      <td>Makeup</td>\n",
       "      <td>Color\\n\\n\\nNatural Matte\\n\\n\\n\\n\\nBrand\\n\\n\\nT...</td>\n",
       "      <td>20.00</td>\n",
       "      <td>4.7</td>\n",
       "      <td>1433</td>\n",
       "    </tr>\n",
       "    <tr>\n",
       "      <th>2</th>\n",
       "      <td>2</td>\n",
       "      <td>B0019LVFO4</td>\n",
       "      <td>1.9</td>\n",
       "      <td>2.4</td>\n",
       "      <td>love oil blend nicely lavender calming effect ...</td>\n",
       "      <td>smell great comparable young living rose oil s...</td>\n",
       "      <td>5</td>\n",
       "      <td>NOW Essential Oils, Rose Absolute, 5% Blend of...</td>\n",
       "      <td>Health Care</td>\n",
       "      <td>Scent\\n\\n\\nRose Absolute 5%\\n\\n\\n\\n\\nIngredien...</td>\n",
       "      <td>12.98</td>\n",
       "      <td>4.5</td>\n",
       "      <td>1213</td>\n",
       "    </tr>\n",
       "    <tr>\n",
       "      <th>3</th>\n",
       "      <td>3</td>\n",
       "      <td>B001A3ATP2</td>\n",
       "      <td>0.3</td>\n",
       "      <td>0.6</td>\n",
       "      <td>came exactly shown bobby pin good size good pr...</td>\n",
       "      <td>bobby pin good size good price good great disp...</td>\n",
       "      <td>5</td>\n",
       "      <td>Diane, 2\" Bobby Pins D452, BLACK, 300 Count</td>\n",
       "      <td>Hair Care</td>\n",
       "      <td>Color\\n\\n\\nBLACK\\n\\n\\n\\n\\nBrand\\n\\n\\nDiane\\n\\n...</td>\n",
       "      <td>6.00</td>\n",
       "      <td>4.4</td>\n",
       "      <td>642</td>\n",
       "    </tr>\n",
       "    <tr>\n",
       "      <th>4</th>\n",
       "      <td>4</td>\n",
       "      <td>B000VDUOFM</td>\n",
       "      <td>1.2</td>\n",
       "      <td>1.7</td>\n",
       "      <td>lash growing use product regularly unfortunate...</td>\n",
       "      <td>five star great love brush eye brow lash not w...</td>\n",
       "      <td>5</td>\n",
       "      <td>Ardell Professional Brow &amp; Lash Growth Acceler...</td>\n",
       "      <td>Tools &amp; Accessories</td>\n",
       "      <td>Color\\n\\n\\nClear\\n\\n\\n\\n\\nBrand\\n\\n\\nArdell\\n\\...</td>\n",
       "      <td>4.99</td>\n",
       "      <td>3.8</td>\n",
       "      <td>1355</td>\n",
       "    </tr>\n",
       "  </tbody>\n",
       "</table>\n",
       "</div>"
      ],
      "text/plain": [
       "   Unnamed: 0        asin  helpful  Not helpful  \\\n",
       "0           0  B001B7GJ2E      1.7          2.2   \n",
       "1           1  B0019IVEEI      0.6          0.7   \n",
       "2           2  B0019LVFO4      1.9          2.4   \n",
       "3           3  B001A3ATP2      0.3          0.6   \n",
       "4           4  B000VDUOFM      1.2          1.7   \n",
       "\n",
       "                                       review_concat  \\\n",
       "0  amazing tool hat like little curve end side ma...   \n",
       "1  perfect color contouring ashybrownno orange pu...   \n",
       "2  love oil blend nicely lavender calming effect ...   \n",
       "3  came exactly shown bobby pin good size good pr...   \n",
       "4  lash growing use product regularly unfortunate...   \n",
       "\n",
       "                                      summary_concat  overall rating  \\\n",
       "0  amazing attention mom help teen prevent pockma...               5   \n",
       "1  perfect color contouring ashybrownno orange wo...               5   \n",
       "2  smell great comparable young living rose oil s...               5   \n",
       "3  bobby pin good size good price good great disp...               5   \n",
       "4  five star great love brush eye brow lash not w...               5   \n",
       "\n",
       "                                                name             category  \\\n",
       "0       Body Toolz Double Loop Facial Skin Care Tool  Tools & Accessories   \n",
       "1                        theBalm Bahama Mama Bronzer               Makeup   \n",
       "2  NOW Essential Oils, Rose Absolute, 5% Blend of...          Health Care   \n",
       "3        Diane, 2\" Bobby Pins D452, BLACK, 300 Count            Hair Care   \n",
       "4  Ardell Professional Brow & Lash Growth Acceler...  Tools & Accessories   \n",
       "\n",
       "                                         description  price  rating  \\\n",
       "0  Brand\\n\\n\\nBody Toolz\\n\\n\\n\\n\\nMaterial\\n\\n\\nS...   7.75     4.1   \n",
       "1  Color\\n\\n\\nNatural Matte\\n\\n\\n\\n\\nBrand\\n\\n\\nT...  20.00     4.7   \n",
       "2  Scent\\n\\n\\nRose Absolute 5%\\n\\n\\n\\n\\nIngredien...  12.98     4.5   \n",
       "3  Color\\n\\n\\nBLACK\\n\\n\\n\\n\\nBrand\\n\\n\\nDiane\\n\\n...   6.00     4.4   \n",
       "4  Color\\n\\n\\nClear\\n\\n\\n\\n\\nBrand\\n\\n\\nArdell\\n\\...   4.99     3.8   \n",
       "\n",
       "   No_of_Rating  \n",
       "0           673  \n",
       "1          1433  \n",
       "2          1213  \n",
       "3           642  \n",
       "4          1355  "
      ]
     },
     "execution_count": 3,
     "metadata": {},
     "output_type": "execute_result"
    }
   ],
   "source": [
    "Amazon_beauty_data.head()"
   ]
  },
  {
   "cell_type": "code",
   "execution_count": 4,
   "metadata": {
    "scrolled": true
   },
   "outputs": [
    {
     "data": {
      "text/plain": [
       "(1719, 13)"
      ]
     },
     "execution_count": 4,
     "metadata": {},
     "output_type": "execute_result"
    }
   ],
   "source": [
    "Amazon_beauty_data.shape"
   ]
  },
  {
   "cell_type": "code",
   "execution_count": 5,
   "metadata": {},
   "outputs": [
    {
     "name": "stdout",
     "output_type": "stream",
     "text": [
      "These are the features from dataset\n",
      "Index(['Unnamed: 0', 'asin', 'helpful', 'Not helpful', 'review_concat',\n",
      "       'summary_concat', 'overall rating', 'name', 'category', 'description',\n",
      "       'price', 'rating', 'No_of_Rating'],\n",
      "      dtype='object')\n"
     ]
    }
   ],
   "source": [
    "print('These are the features from dataset')\n",
    "print(Amazon_beauty_data.columns)"
   ]
  },
  {
   "cell_type": "markdown",
   "metadata": {},
   "source": [
    "There are 11 features for each asin in the dataset, out of which 5 features, 'helpful', 'Not helpful', 'review_concat','summary_concat', 'overall rating' are from old dataset \n",
    "\n",
    "6 features, 'name', 'category', 'description','price', 'rating', 'No_of_Rating' are the scraped data"
   ]
  },
  {
   "cell_type": "code",
   "execution_count": 6,
   "metadata": {},
   "outputs": [
    {
     "name": "stdout",
     "output_type": "stream",
     "text": [
      "<class 'pandas.core.frame.DataFrame'>\n",
      "RangeIndex: 1719 entries, 0 to 1718\n",
      "Data columns (total 13 columns):\n",
      " #   Column          Non-Null Count  Dtype  \n",
      "---  ------          --------------  -----  \n",
      " 0   Unnamed: 0      1719 non-null   int64  \n",
      " 1   asin            1719 non-null   object \n",
      " 2   helpful         1719 non-null   float64\n",
      " 3   Not helpful     1719 non-null   float64\n",
      " 4   review_concat   1719 non-null   object \n",
      " 5   summary_concat  1719 non-null   object \n",
      " 6   overall rating  1719 non-null   int64  \n",
      " 7   name            1719 non-null   object \n",
      " 8   category        1719 non-null   object \n",
      " 9   description     1719 non-null   object \n",
      " 10  price           1719 non-null   float64\n",
      " 11  rating          1719 non-null   float64\n",
      " 12  No_of_Rating    1719 non-null   int64  \n",
      "dtypes: float64(4), int64(3), object(6)\n",
      "memory usage: 174.7+ KB\n"
     ]
    }
   ],
   "source": [
    "Amazon_beauty_data.info()"
   ]
  },
  {
   "cell_type": "code",
   "execution_count": 7,
   "metadata": {},
   "outputs": [
    {
     "data": {
      "text/html": [
       "<div>\n",
       "<style scoped>\n",
       "    .dataframe tbody tr th:only-of-type {\n",
       "        vertical-align: middle;\n",
       "    }\n",
       "\n",
       "    .dataframe tbody tr th {\n",
       "        vertical-align: top;\n",
       "    }\n",
       "\n",
       "    .dataframe thead th {\n",
       "        text-align: right;\n",
       "    }\n",
       "</style>\n",
       "<table border=\"1\" class=\"dataframe\">\n",
       "  <thead>\n",
       "    <tr style=\"text-align: right;\">\n",
       "      <th></th>\n",
       "      <th>Unnamed: 0</th>\n",
       "      <th>asin</th>\n",
       "      <th>helpful</th>\n",
       "      <th>Not helpful</th>\n",
       "      <th>review_concat</th>\n",
       "      <th>summary_concat</th>\n",
       "      <th>overall rating</th>\n",
       "      <th>name</th>\n",
       "      <th>category</th>\n",
       "      <th>description</th>\n",
       "      <th>price</th>\n",
       "      <th>rating</th>\n",
       "      <th>No_of_Rating</th>\n",
       "    </tr>\n",
       "  </thead>\n",
       "  <tbody>\n",
       "    <tr>\n",
       "      <th>0</th>\n",
       "      <td>0</td>\n",
       "      <td>B001B7GJ2E</td>\n",
       "      <td>1.7</td>\n",
       "      <td>2.2</td>\n",
       "      <td>amazing tool hat like little curve end side ma...</td>\n",
       "      <td>amazing attention mom help teen prevent pockma...</td>\n",
       "      <td>5</td>\n",
       "      <td>Body Toolz Double Loop Facial Skin Care Tool</td>\n",
       "      <td>Tools &amp; Accessories</td>\n",
       "      <td>Brand\\n\\n\\nBody Toolz\\n\\n\\n\\n\\nMaterial\\n\\n\\nS...</td>\n",
       "      <td>7.75</td>\n",
       "      <td>4.1</td>\n",
       "      <td>673</td>\n",
       "    </tr>\n",
       "    <tr>\n",
       "      <th>1</th>\n",
       "      <td>1</td>\n",
       "      <td>B0019IVEEI</td>\n",
       "      <td>0.6</td>\n",
       "      <td>0.7</td>\n",
       "      <td>perfect color contouring ashybrownno orange pu...</td>\n",
       "      <td>perfect color contouring ashybrownno orange wo...</td>\n",
       "      <td>5</td>\n",
       "      <td>theBalm Bahama Mama Bronzer</td>\n",
       "      <td>Makeup</td>\n",
       "      <td>Color\\n\\n\\nNatural Matte\\n\\n\\n\\n\\nBrand\\n\\n\\nT...</td>\n",
       "      <td>20.00</td>\n",
       "      <td>4.7</td>\n",
       "      <td>1433</td>\n",
       "    </tr>\n",
       "    <tr>\n",
       "      <th>2</th>\n",
       "      <td>2</td>\n",
       "      <td>B0019LVFO4</td>\n",
       "      <td>1.9</td>\n",
       "      <td>2.4</td>\n",
       "      <td>love oil blend nicely lavender calming effect ...</td>\n",
       "      <td>smell great comparable young living rose oil s...</td>\n",
       "      <td>5</td>\n",
       "      <td>NOW Essential Oils, Rose Absolute, 5% Blend of...</td>\n",
       "      <td>Health Care</td>\n",
       "      <td>Scent\\n\\n\\nRose Absolute 5%\\n\\n\\n\\n\\nIngredien...</td>\n",
       "      <td>12.98</td>\n",
       "      <td>4.5</td>\n",
       "      <td>1213</td>\n",
       "    </tr>\n",
       "    <tr>\n",
       "      <th>3</th>\n",
       "      <td>3</td>\n",
       "      <td>B001A3ATP2</td>\n",
       "      <td>0.3</td>\n",
       "      <td>0.6</td>\n",
       "      <td>came exactly shown bobby pin good size good pr...</td>\n",
       "      <td>bobby pin good size good price good great disp...</td>\n",
       "      <td>5</td>\n",
       "      <td>Diane, 2\" Bobby Pins D452, BLACK, 300 Count</td>\n",
       "      <td>Hair Care</td>\n",
       "      <td>Color\\n\\n\\nBLACK\\n\\n\\n\\n\\nBrand\\n\\n\\nDiane\\n\\n...</td>\n",
       "      <td>6.00</td>\n",
       "      <td>4.4</td>\n",
       "      <td>642</td>\n",
       "    </tr>\n",
       "    <tr>\n",
       "      <th>4</th>\n",
       "      <td>4</td>\n",
       "      <td>B000VDUOFM</td>\n",
       "      <td>1.2</td>\n",
       "      <td>1.7</td>\n",
       "      <td>lash growing use product regularly unfortunate...</td>\n",
       "      <td>five star great love brush eye brow lash not w...</td>\n",
       "      <td>5</td>\n",
       "      <td>Ardell Professional Brow &amp; Lash Growth Acceler...</td>\n",
       "      <td>Tools &amp; Accessories</td>\n",
       "      <td>Color\\n\\n\\nClear\\n\\n\\n\\n\\nBrand\\n\\n\\nArdell\\n\\...</td>\n",
       "      <td>4.99</td>\n",
       "      <td>3.8</td>\n",
       "      <td>1355</td>\n",
       "    </tr>\n",
       "  </tbody>\n",
       "</table>\n",
       "</div>"
      ],
      "text/plain": [
       "   Unnamed: 0        asin  helpful  Not helpful  \\\n",
       "0           0  B001B7GJ2E      1.7          2.2   \n",
       "1           1  B0019IVEEI      0.6          0.7   \n",
       "2           2  B0019LVFO4      1.9          2.4   \n",
       "3           3  B001A3ATP2      0.3          0.6   \n",
       "4           4  B000VDUOFM      1.2          1.7   \n",
       "\n",
       "                                       review_concat  \\\n",
       "0  amazing tool hat like little curve end side ma...   \n",
       "1  perfect color contouring ashybrownno orange pu...   \n",
       "2  love oil blend nicely lavender calming effect ...   \n",
       "3  came exactly shown bobby pin good size good pr...   \n",
       "4  lash growing use product regularly unfortunate...   \n",
       "\n",
       "                                      summary_concat  overall rating  \\\n",
       "0  amazing attention mom help teen prevent pockma...               5   \n",
       "1  perfect color contouring ashybrownno orange wo...               5   \n",
       "2  smell great comparable young living rose oil s...               5   \n",
       "3  bobby pin good size good price good great disp...               5   \n",
       "4  five star great love brush eye brow lash not w...               5   \n",
       "\n",
       "                                                name             category  \\\n",
       "0       Body Toolz Double Loop Facial Skin Care Tool  Tools & Accessories   \n",
       "1                        theBalm Bahama Mama Bronzer               Makeup   \n",
       "2  NOW Essential Oils, Rose Absolute, 5% Blend of...          Health Care   \n",
       "3        Diane, 2\" Bobby Pins D452, BLACK, 300 Count            Hair Care   \n",
       "4  Ardell Professional Brow & Lash Growth Acceler...  Tools & Accessories   \n",
       "\n",
       "                                         description  price  rating  \\\n",
       "0  Brand\\n\\n\\nBody Toolz\\n\\n\\n\\n\\nMaterial\\n\\n\\nS...   7.75     4.1   \n",
       "1  Color\\n\\n\\nNatural Matte\\n\\n\\n\\n\\nBrand\\n\\n\\nT...  20.00     4.7   \n",
       "2  Scent\\n\\n\\nRose Absolute 5%\\n\\n\\n\\n\\nIngredien...  12.98     4.5   \n",
       "3  Color\\n\\n\\nBLACK\\n\\n\\n\\n\\nBrand\\n\\n\\nDiane\\n\\n...   6.00     4.4   \n",
       "4  Color\\n\\n\\nClear\\n\\n\\n\\n\\nBrand\\n\\n\\nArdell\\n\\...   4.99     3.8   \n",
       "\n",
       "   No_of_Rating  \n",
       "0           673  \n",
       "1          1433  \n",
       "2          1213  \n",
       "3           642  \n",
       "4          1355  "
      ]
     },
     "execution_count": 7,
     "metadata": {},
     "output_type": "execute_result"
    }
   ],
   "source": [
    "Amazon_beauty_data.head()"
   ]
  },
  {
   "cell_type": "markdown",
   "metadata": {},
   "source": [
    "# Exploratory Analysis "
   ]
  },
  {
   "cell_type": "markdown",
   "metadata": {},
   "source": [
    "In the dataset:\n",
    "1. asin: unique asin id for each product\n",
    "2. overall rating: the average rating of the products in 2014\n",
    "3. review_concat: The concatenated reviews of each product that will be used for NLP Sentiment analysis in future\n",
    "4. helpful and unhelpful: Although it's an average of all the helpful and unhelpful tags to reviews of each product,\n",
    "it gives an idea of how many people actually go through the reviews and are biased by reviews\n",
    "5. summary_concat: The heading of each review, will also be used for sentiment analysis\n",
    "6. name: name of the product\n",
    "7. category: category of the products. For the sentiment analysis, I will use categories: skincare, makeup and haircare, which has the highest number of records\n",
    "8. description, price: description and of the product\n",
    "9. Rating: current rating\n",
    "10. No_of rating: Number of people who rated the product, gives an idea of how many people purchased the product\n"
   ]
  },
  {
   "cell_type": "code",
   "execution_count": 10,
   "metadata": {},
   "outputs": [
    {
     "data": {
      "image/png": "[encoded data removed]",
      "text/plain": [
       "<Figure size 432x288 with 1 Axes>"
      ]
     },
     "metadata": {
      "needs_background": "light"
     },
     "output_type": "display_data"
    }
   ],
   "source": [
    "bar_plot = sns.countplot(x='category',data=Amazon_beauty_data,order=pd.value_counts(Amazon_beauty_data['category']).iloc[:10].index)\n",
    "bar_plot.set_title('Top 10 product categories', fontsize = 23, y =1.05)\n",
    "bar_plot.set_xticklabels(bar_plot.get_xticklabels(),rotation = 90)\n",
    "\n",
    "plt.show()"
   ]
  },
  {
   "cell_type": "markdown",
   "metadata": {},
   "source": [
    "Considering Skincare, haircare, Makeup, Fragrance, Personal Care"
   ]
  },
  {
   "cell_type": "code",
   "execution_count": 23,
   "metadata": {},
   "outputs": [
    {
     "data": {
      "text/plain": [
       "<AxesSubplot:xlabel='category', ylabel='price'>"
      ]
     },
     "execution_count": 23,
     "metadata": {},
     "output_type": "execute_result"
    },
    {
     "data": {
      "image/png": "[encoded data removed]",
      "text/plain": [
       "<Figure size 432x288 with 1 Axes>"
      ]
     },
     "metadata": {
      "needs_background": "light"
     },
     "output_type": "display_data"
    }
   ],
   "source": [
    "#Price Distribution for various categories\n",
    "sns.boxplot(y = Amazon_beauty_data['price'], x = Amazon_beauty_data['category'],order=[\"Skin Care\", \"Hair Care\", \"Makeup\", \"Fragrance\", \"Personal Care\"])"
   ]
  },
  {
   "cell_type": "markdown",
   "metadata": {},
   "source": [
    "Mean price of Personal care is lower compared to others. The price of Fragrance is larger compared to all the other categories.\n",
    "Mean price of Skincare, Hair Care, Makeup is almost similar"
   ]
  },
  {
   "cell_type": "code",
   "execution_count": 6,
   "metadata": {},
   "outputs": [],
   "source": [
    "#Breaking the data into various categories\n",
    "Amazon_skincare = Amazon_beauty_data.loc[Amazon_beauty_data['category']=='Skin Care']\n",
    "Amazon_haircare = Amazon_beauty_data.loc[Amazon_beauty_data['category']=='Hair Care']\n",
    "Amazon_makeup = Amazon_beauty_data.loc[Amazon_beauty_data['category']=='Makeup']\n",
    "Amazon_fragrance = Amazon_beauty_data.loc[Amazon_beauty_data['category']=='Fragrance']\n",
    "Amazon_personalcare = Amazon_beauty_data.loc[Amazon_beauty_data['category']=='Personal Care']"
   ]
  },
  {
   "cell_type": "code",
   "execution_count": 25,
   "metadata": {},
   "outputs": [
    {
     "data": {
      "text/html": [
       "<div>\n",
       "<style scoped>\n",
       "    .dataframe tbody tr th:only-of-type {\n",
       "        vertical-align: middle;\n",
       "    }\n",
       "\n",
       "    .dataframe tbody tr th {\n",
       "        vertical-align: top;\n",
       "    }\n",
       "\n",
       "    .dataframe thead th {\n",
       "        text-align: right;\n",
       "    }\n",
       "</style>\n",
       "<table border=\"1\" class=\"dataframe\">\n",
       "  <thead>\n",
       "    <tr style=\"text-align: right;\">\n",
       "      <th></th>\n",
       "      <th>Unnamed: 0</th>\n",
       "      <th>asin</th>\n",
       "      <th>helpful</th>\n",
       "      <th>Not helpful</th>\n",
       "      <th>review_concat</th>\n",
       "      <th>summary_concat</th>\n",
       "      <th>overall rating</th>\n",
       "      <th>name</th>\n",
       "      <th>category</th>\n",
       "      <th>description</th>\n",
       "      <th>price</th>\n",
       "      <th>rating</th>\n",
       "      <th>No_of_Rating</th>\n",
       "    </tr>\n",
       "  </thead>\n",
       "  <tbody>\n",
       "    <tr>\n",
       "      <th>7</th>\n",
       "      <td>7</td>\n",
       "      <td>B000PHP8L4</td>\n",
       "      <td>2.6</td>\n",
       "      <td>2.7</td>\n",
       "      <td>gentle effective continue use product 1 cheape...</td>\n",
       "      <td>gentle effective continue use great great prod...</td>\n",
       "      <td>5</td>\n",
       "      <td>EltaMD UV Lotion SPF Zinc Oxide Full Body Suns...</td>\n",
       "      <td>Skin Care</td>\n",
       "      <td>Ingredients\\n\\n\\nActive Ingredients: 7.5% Octi...</td>\n",
       "      <td>37.50</td>\n",
       "      <td>4.7</td>\n",
       "      <td>1438</td>\n",
       "    </tr>\n",
       "    <tr>\n",
       "      <th>8</th>\n",
       "      <td>8</td>\n",
       "      <td>B000KPO99I</td>\n",
       "      <td>1.1</td>\n",
       "      <td>1.6</td>\n",
       "      <td>purchased bought day cream really like product...</td>\n",
       "      <td>great night time skin cream bargus impressed n...</td>\n",
       "      <td>5</td>\n",
       "      <td>L'Oréal Paris Skin Care Age Perfect Night Crea...</td>\n",
       "      <td>Skin Care</td>\n",
       "      <td>Special Ingredients\\n\\n\\nERROR: #N/A\\n\\n\\n\\n\\n...</td>\n",
       "      <td>12.49</td>\n",
       "      <td>4.6</td>\n",
       "      <td>1857</td>\n",
       "    </tr>\n",
       "  </tbody>\n",
       "</table>\n",
       "</div>"
      ],
      "text/plain": [
       "   Unnamed: 0        asin  helpful  Not helpful  \\\n",
       "7           7  B000PHP8L4      2.6          2.7   \n",
       "8           8  B000KPO99I      1.1          1.6   \n",
       "\n",
       "                                       review_concat  \\\n",
       "7  gentle effective continue use product 1 cheape...   \n",
       "8  purchased bought day cream really like product...   \n",
       "\n",
       "                                      summary_concat  overall rating  \\\n",
       "7  gentle effective continue use great great prod...               5   \n",
       "8  great night time skin cream bargus impressed n...               5   \n",
       "\n",
       "                                                name   category  \\\n",
       "7  EltaMD UV Lotion SPF Zinc Oxide Full Body Suns...  Skin Care   \n",
       "8  L'Oréal Paris Skin Care Age Perfect Night Crea...  Skin Care   \n",
       "\n",
       "                                         description  price  rating  \\\n",
       "7  Ingredients\\n\\n\\nActive Ingredients: 7.5% Octi...  37.50     4.7   \n",
       "8  Special Ingredients\\n\\n\\nERROR: #N/A\\n\\n\\n\\n\\n...  12.49     4.6   \n",
       "\n",
       "   No_of_Rating  \n",
       "7          1438  \n",
       "8          1857  "
      ]
     },
     "execution_count": 25,
     "metadata": {},
     "output_type": "execute_result"
    }
   ],
   "source": [
    "Amazon_skincare.head(2)"
   ]
  },
  {
   "cell_type": "code",
   "execution_count": 26,
   "metadata": {},
   "outputs": [
    {
     "data": {
      "text/html": [
       "<div>\n",
       "<style scoped>\n",
       "    .dataframe tbody tr th:only-of-type {\n",
       "        vertical-align: middle;\n",
       "    }\n",
       "\n",
       "    .dataframe tbody tr th {\n",
       "        vertical-align: top;\n",
       "    }\n",
       "\n",
       "    .dataframe thead th {\n",
       "        text-align: right;\n",
       "    }\n",
       "</style>\n",
       "<table border=\"1\" class=\"dataframe\">\n",
       "  <thead>\n",
       "    <tr style=\"text-align: right;\">\n",
       "      <th></th>\n",
       "      <th>Unnamed: 0</th>\n",
       "      <th>asin</th>\n",
       "      <th>helpful</th>\n",
       "      <th>Not helpful</th>\n",
       "      <th>review_concat</th>\n",
       "      <th>summary_concat</th>\n",
       "      <th>overall rating</th>\n",
       "      <th>name</th>\n",
       "      <th>category</th>\n",
       "      <th>description</th>\n",
       "      <th>price</th>\n",
       "      <th>rating</th>\n",
       "      <th>No_of_Rating</th>\n",
       "    </tr>\n",
       "  </thead>\n",
       "  <tbody>\n",
       "    <tr>\n",
       "      <th>3</th>\n",
       "      <td>3</td>\n",
       "      <td>B001A3ATP2</td>\n",
       "      <td>0.3</td>\n",
       "      <td>0.6</td>\n",
       "      <td>came exactly shown bobby pin good size good pr...</td>\n",
       "      <td>bobby pin good size good price good great disp...</td>\n",
       "      <td>5</td>\n",
       "      <td>Diane, 2\" Bobby Pins D452, BLACK, 300 Count</td>\n",
       "      <td>Hair Care</td>\n",
       "      <td>Color\\n\\n\\nBLACK\\n\\n\\n\\n\\nBrand\\n\\n\\nDiane\\n\\n...</td>\n",
       "      <td>6.00</td>\n",
       "      <td>4.4</td>\n",
       "      <td>642</td>\n",
       "    </tr>\n",
       "    <tr>\n",
       "      <th>11</th>\n",
       "      <td>11</td>\n",
       "      <td>B00099E8ZA</td>\n",
       "      <td>4.8</td>\n",
       "      <td>5.9</td>\n",
       "      <td>amazing clarifying shampoo smell fantastic mak...</td>\n",
       "      <td>amazing clarifying shampoo delightful fragranc...</td>\n",
       "      <td>5</td>\n",
       "      <td>Neutrogena Anti-Residue Clarifying Shampoo, Ge...</td>\n",
       "      <td>Hair Care</td>\n",
       "      <td>Brand\\n\\n\\nNeutrogena\\n\\n\\n\\n\\nScent\\n\\n\\nAll ...</td>\n",
       "      <td>7.99</td>\n",
       "      <td>4.6</td>\n",
       "      <td>20834</td>\n",
       "    </tr>\n",
       "  </tbody>\n",
       "</table>\n",
       "</div>"
      ],
      "text/plain": [
       "    Unnamed: 0        asin  helpful  Not helpful  \\\n",
       "3            3  B001A3ATP2      0.3          0.6   \n",
       "11          11  B00099E8ZA      4.8          5.9   \n",
       "\n",
       "                                        review_concat  \\\n",
       "3   came exactly shown bobby pin good size good pr...   \n",
       "11  amazing clarifying shampoo smell fantastic mak...   \n",
       "\n",
       "                                       summary_concat  overall rating  \\\n",
       "3   bobby pin good size good price good great disp...               5   \n",
       "11  amazing clarifying shampoo delightful fragranc...               5   \n",
       "\n",
       "                                                 name   category  \\\n",
       "3         Diane, 2\" Bobby Pins D452, BLACK, 300 Count  Hair Care   \n",
       "11  Neutrogena Anti-Residue Clarifying Shampoo, Ge...  Hair Care   \n",
       "\n",
       "                                          description  price  rating  \\\n",
       "3   Color\\n\\n\\nBLACK\\n\\n\\n\\n\\nBrand\\n\\n\\nDiane\\n\\n...   6.00     4.4   \n",
       "11  Brand\\n\\n\\nNeutrogena\\n\\n\\n\\n\\nScent\\n\\n\\nAll ...   7.99     4.6   \n",
       "\n",
       "    No_of_Rating  \n",
       "3            642  \n",
       "11         20834  "
      ]
     },
     "execution_count": 26,
     "metadata": {},
     "output_type": "execute_result"
    }
   ],
   "source": [
    "Amazon_haircare.head(2)"
   ]
  },
  {
   "cell_type": "code",
   "execution_count": 27,
   "metadata": {},
   "outputs": [
    {
     "data": {
      "text/html": [
       "<div>\n",
       "<style scoped>\n",
       "    .dataframe tbody tr th:only-of-type {\n",
       "        vertical-align: middle;\n",
       "    }\n",
       "\n",
       "    .dataframe tbody tr th {\n",
       "        vertical-align: top;\n",
       "    }\n",
       "\n",
       "    .dataframe thead th {\n",
       "        text-align: right;\n",
       "    }\n",
       "</style>\n",
       "<table border=\"1\" class=\"dataframe\">\n",
       "  <thead>\n",
       "    <tr style=\"text-align: right;\">\n",
       "      <th></th>\n",
       "      <th>Unnamed: 0</th>\n",
       "      <th>asin</th>\n",
       "      <th>helpful</th>\n",
       "      <th>Not helpful</th>\n",
       "      <th>review_concat</th>\n",
       "      <th>summary_concat</th>\n",
       "      <th>overall rating</th>\n",
       "      <th>name</th>\n",
       "      <th>category</th>\n",
       "      <th>description</th>\n",
       "      <th>price</th>\n",
       "      <th>rating</th>\n",
       "      <th>No_of_Rating</th>\n",
       "    </tr>\n",
       "  </thead>\n",
       "  <tbody>\n",
       "    <tr>\n",
       "      <th>1</th>\n",
       "      <td>1</td>\n",
       "      <td>B0019IVEEI</td>\n",
       "      <td>0.6</td>\n",
       "      <td>0.7</td>\n",
       "      <td>perfect color contouring ashybrownno orange pu...</td>\n",
       "      <td>perfect color contouring ashybrownno orange wo...</td>\n",
       "      <td>5</td>\n",
       "      <td>theBalm Bahama Mama Bronzer</td>\n",
       "      <td>Makeup</td>\n",
       "      <td>Color\\n\\n\\nNatural Matte\\n\\n\\n\\n\\nBrand\\n\\n\\nT...</td>\n",
       "      <td>20.0</td>\n",
       "      <td>4.7</td>\n",
       "      <td>1433</td>\n",
       "    </tr>\n",
       "    <tr>\n",
       "      <th>59</th>\n",
       "      <td>59</td>\n",
       "      <td>B000WYZ9Q4</td>\n",
       "      <td>0.9</td>\n",
       "      <td>1.2</td>\n",
       "      <td>switching crueltyfree product thought would go...</td>\n",
       "      <td>clumpy dry not good review read pretty plain f...</td>\n",
       "      <td>2</td>\n",
       "      <td>NYX PROFESSIONAL MAKEUP Doll Eye Mascara, Volu...</td>\n",
       "      <td>Makeup</td>\n",
       "      <td>Color\\n\\n\\nVolume\\n\\n\\n\\n\\nProduct Benefits\\n\\...</td>\n",
       "      <td>10.0</td>\n",
       "      <td>4.0</td>\n",
       "      <td>2059</td>\n",
       "    </tr>\n",
       "  </tbody>\n",
       "</table>\n",
       "</div>"
      ],
      "text/plain": [
       "    Unnamed: 0        asin  helpful  Not helpful  \\\n",
       "1            1  B0019IVEEI      0.6          0.7   \n",
       "59          59  B000WYZ9Q4      0.9          1.2   \n",
       "\n",
       "                                        review_concat  \\\n",
       "1   perfect color contouring ashybrownno orange pu...   \n",
       "59  switching crueltyfree product thought would go...   \n",
       "\n",
       "                                       summary_concat  overall rating  \\\n",
       "1   perfect color contouring ashybrownno orange wo...               5   \n",
       "59  clumpy dry not good review read pretty plain f...               2   \n",
       "\n",
       "                                                 name category  \\\n",
       "1                         theBalm Bahama Mama Bronzer   Makeup   \n",
       "59  NYX PROFESSIONAL MAKEUP Doll Eye Mascara, Volu...   Makeup   \n",
       "\n",
       "                                          description  price  rating  \\\n",
       "1   Color\\n\\n\\nNatural Matte\\n\\n\\n\\n\\nBrand\\n\\n\\nT...   20.0     4.7   \n",
       "59  Color\\n\\n\\nVolume\\n\\n\\n\\n\\nProduct Benefits\\n\\...   10.0     4.0   \n",
       "\n",
       "    No_of_Rating  \n",
       "1           1433  \n",
       "59          2059  "
      ]
     },
     "execution_count": 27,
     "metadata": {},
     "output_type": "execute_result"
    }
   ],
   "source": [
    "Amazon_makeup.head(2)"
   ]
  },
  {
   "cell_type": "code",
   "execution_count": 28,
   "metadata": {},
   "outputs": [
    {
     "data": {
      "text/html": [
       "<div>\n",
       "<style scoped>\n",
       "    .dataframe tbody tr th:only-of-type {\n",
       "        vertical-align: middle;\n",
       "    }\n",
       "\n",
       "    .dataframe tbody tr th {\n",
       "        vertical-align: top;\n",
       "    }\n",
       "\n",
       "    .dataframe thead th {\n",
       "        text-align: right;\n",
       "    }\n",
       "</style>\n",
       "<table border=\"1\" class=\"dataframe\">\n",
       "  <thead>\n",
       "    <tr style=\"text-align: right;\">\n",
       "      <th></th>\n",
       "      <th>Unnamed: 0</th>\n",
       "      <th>asin</th>\n",
       "      <th>helpful</th>\n",
       "      <th>Not helpful</th>\n",
       "      <th>review_concat</th>\n",
       "      <th>summary_concat</th>\n",
       "      <th>overall rating</th>\n",
       "      <th>name</th>\n",
       "      <th>category</th>\n",
       "      <th>description</th>\n",
       "      <th>price</th>\n",
       "      <th>rating</th>\n",
       "      <th>No_of_Rating</th>\n",
       "    </tr>\n",
       "  </thead>\n",
       "  <tbody>\n",
       "    <tr>\n",
       "      <th>10</th>\n",
       "      <td>10</td>\n",
       "      <td>B000P22TIY</td>\n",
       "      <td>0.4</td>\n",
       "      <td>0.7</td>\n",
       "      <td>good le 15 best nautica tried great product gr...</td>\n",
       "      <td>five star five star three star nautica voyage ...</td>\n",
       "      <td>3</td>\n",
       "      <td>Nautica Voyage By Nautica For Men Eau De Toile...</td>\n",
       "      <td>Fragrance</td>\n",
       "      <td>Brand\\n\\n\\nNautica\\n\\n\\n\\n\\nScent\\n\\n\\nNautica...</td>\n",
       "      <td>18.9</td>\n",
       "      <td>4.6</td>\n",
       "      <td>61455</td>\n",
       "    </tr>\n",
       "    <tr>\n",
       "      <th>13</th>\n",
       "      <td>13</td>\n",
       "      <td>B001FWXISS</td>\n",
       "      <td>0.0</td>\n",
       "      <td>0.0</td>\n",
       "      <td>love absolutely love scent husband always gett...</td>\n",
       "      <td>five star smell dreamy everything done well ck...</td>\n",
       "      <td>5</td>\n",
       "      <td>Calvin Klein intense euphoria for Men Eau de T...</td>\n",
       "      <td>Fragrance</td>\n",
       "      <td>Brand\\n\\n\\nCalvin Klein\\n\\n\\n\\n\\nScent\\n\\n\\nFl...</td>\n",
       "      <td>86.0</td>\n",
       "      <td>4.7</td>\n",
       "      <td>807</td>\n",
       "    </tr>\n",
       "  </tbody>\n",
       "</table>\n",
       "</div>"
      ],
      "text/plain": [
       "    Unnamed: 0        asin  helpful  Not helpful  \\\n",
       "10          10  B000P22TIY      0.4          0.7   \n",
       "13          13  B001FWXISS      0.0          0.0   \n",
       "\n",
       "                                        review_concat  \\\n",
       "10  good le 15 best nautica tried great product gr...   \n",
       "13  love absolutely love scent husband always gett...   \n",
       "\n",
       "                                       summary_concat  overall rating  \\\n",
       "10  five star five star three star nautica voyage ...               3   \n",
       "13  five star smell dreamy everything done well ck...               5   \n",
       "\n",
       "                                                 name   category  \\\n",
       "10  Nautica Voyage By Nautica For Men Eau De Toile...  Fragrance   \n",
       "13  Calvin Klein intense euphoria for Men Eau de T...  Fragrance   \n",
       "\n",
       "                                          description  price  rating  \\\n",
       "10  Brand\\n\\n\\nNautica\\n\\n\\n\\n\\nScent\\n\\n\\nNautica...   18.9     4.6   \n",
       "13  Brand\\n\\n\\nCalvin Klein\\n\\n\\n\\n\\nScent\\n\\n\\nFl...   86.0     4.7   \n",
       "\n",
       "    No_of_Rating  \n",
       "10         61455  \n",
       "13           807  "
      ]
     },
     "execution_count": 28,
     "metadata": {},
     "output_type": "execute_result"
    }
   ],
   "source": [
    "Amazon_fragrance.head(2)"
   ]
  },
  {
   "cell_type": "code",
   "execution_count": 29,
   "metadata": {},
   "outputs": [
    {
     "data": {
      "text/html": [
       "<div>\n",
       "<style scoped>\n",
       "    .dataframe tbody tr th:only-of-type {\n",
       "        vertical-align: middle;\n",
       "    }\n",
       "\n",
       "    .dataframe tbody tr th {\n",
       "        vertical-align: top;\n",
       "    }\n",
       "\n",
       "    .dataframe thead th {\n",
       "        text-align: right;\n",
       "    }\n",
       "</style>\n",
       "<table border=\"1\" class=\"dataframe\">\n",
       "  <thead>\n",
       "    <tr style=\"text-align: right;\">\n",
       "      <th></th>\n",
       "      <th>Unnamed: 0</th>\n",
       "      <th>asin</th>\n",
       "      <th>helpful</th>\n",
       "      <th>Not helpful</th>\n",
       "      <th>review_concat</th>\n",
       "      <th>summary_concat</th>\n",
       "      <th>overall rating</th>\n",
       "      <th>name</th>\n",
       "      <th>category</th>\n",
       "      <th>description</th>\n",
       "      <th>price</th>\n",
       "      <th>rating</th>\n",
       "      <th>No_of_Rating</th>\n",
       "    </tr>\n",
       "  </thead>\n",
       "  <tbody>\n",
       "    <tr>\n",
       "      <th>61</th>\n",
       "      <td>61</td>\n",
       "      <td>B000XE1ZI4</td>\n",
       "      <td>0.8</td>\n",
       "      <td>1.0</td>\n",
       "      <td>using week felt difference first use foot not ...</td>\n",
       "      <td>work great product yummy great product ooh add...</td>\n",
       "      <td>5</td>\n",
       "      <td>Spongeables Pedi-Scrub Foot Buffer, Lavender S...</td>\n",
       "      <td>Personal Care</td>\n",
       "      <td>Brand\\n\\n\\nSpongeables\\n\\n\\n\\n\\nIngredients\\n\\...</td>\n",
       "      <td>5.99</td>\n",
       "      <td>4.3</td>\n",
       "      <td>6694</td>\n",
       "    </tr>\n",
       "    <tr>\n",
       "      <th>205</th>\n",
       "      <td>205</td>\n",
       "      <td>B000052X9G</td>\n",
       "      <td>1.2</td>\n",
       "      <td>4.6</td>\n",
       "      <td>bunch promise well work bottle twoweek supply ...</td>\n",
       "      <td>nothing musthave supplement let not pleased nullo</td>\n",
       "      <td>3</td>\n",
       "      <td>Nullo Internal Deodorant (135 Caplets)</td>\n",
       "      <td>Personal Care</td>\n",
       "      <td>Ingredients Other Ingredients: Crospovidone, D...</td>\n",
       "      <td>55.00</td>\n",
       "      <td>4.2</td>\n",
       "      <td>162</td>\n",
       "    </tr>\n",
       "  </tbody>\n",
       "</table>\n",
       "</div>"
      ],
      "text/plain": [
       "     Unnamed: 0        asin  helpful  Not helpful  \\\n",
       "61           61  B000XE1ZI4      0.8          1.0   \n",
       "205         205  B000052X9G      1.2          4.6   \n",
       "\n",
       "                                         review_concat  \\\n",
       "61   using week felt difference first use foot not ...   \n",
       "205  bunch promise well work bottle twoweek supply ...   \n",
       "\n",
       "                                        summary_concat  overall rating  \\\n",
       "61   work great product yummy great product ooh add...               5   \n",
       "205  nothing musthave supplement let not pleased nullo               3   \n",
       "\n",
       "                                                  name       category  \\\n",
       "61   Spongeables Pedi-Scrub Foot Buffer, Lavender S...  Personal Care   \n",
       "205             Nullo Internal Deodorant (135 Caplets)  Personal Care   \n",
       "\n",
       "                                           description  price  rating  \\\n",
       "61   Brand\\n\\n\\nSpongeables\\n\\n\\n\\n\\nIngredients\\n\\...   5.99     4.3   \n",
       "205  Ingredients Other Ingredients: Crospovidone, D...  55.00     4.2   \n",
       "\n",
       "     No_of_Rating  \n",
       "61           6694  \n",
       "205           162  "
      ]
     },
     "execution_count": 29,
     "metadata": {},
     "output_type": "execute_result"
    }
   ],
   "source": [
    "Amazon_personalcare.head(2)"
   ]
  },
  {
   "cell_type": "code",
   "execution_count": 46,
   "metadata": {},
   "outputs": [
    {
     "data": {
      "text/plain": [
       "Text(0.5, 0, 'Price')"
      ]
     },
     "execution_count": 46,
     "metadata": {},
     "output_type": "execute_result"
    },
    {
     "data": {
      "image/png": "[encoded data removed]",
      "text/plain": [
       "<Figure size 432x288 with 2 Axes>"
      ]
     },
     "metadata": {
      "needs_background": "light"
     },
     "output_type": "display_data"
    }
   ],
   "source": [
    "#prices of top most sold products in each category, The number of ratings gives an idea of how many people\n",
    "#purchased the product\n",
    "fig,axes = plt.subplots(1, 2)\n",
    "skin_price_ratings = sns.histplot(x = Amazon_skincare['price'], binwidth = 10, ax = axes[1])\n",
    "skin_price_ratings = sns.scatterplot(x='price', y='No_of_Rating', data=Amazon_skincare,ax = axes[0])\n",
    "skin_price_ratings.set_title('#Ratings vs price range', fontsize = 10, y =1.05)\n",
    "skin_price = sns.histplot(x = Amazon_skincare['price'], binwidth = 10, ax = axes[1])\n",
    "skin_price.set_title('Price skin products', fontsize = 10, y =1.05)\n",
    "skin_price.set_xlabel(\"Price\", fontsize = 10)\n"
   ]
  },
  {
   "cell_type": "code",
   "execution_count": 47,
   "metadata": {},
   "outputs": [
    {
     "data": {
      "image/png": "[encoded data removed]",
      "text/plain": [
       "<Figure size 360x360 with 1 Axes>"
      ]
     },
     "metadata": {
      "needs_background": "light"
     },
     "output_type": "display_data"
    }
   ],
   "source": [
    "# basic scatterplot\n",
    "sns.lmplot( x=\"price\", y=\"No_of_Rating\", data=Amazon_skincare, fit_reg=False)\n",
    "plt.ylim(0, None)\n",
    "plt.xlim(0, 50)\n",
    "plt.show()"
   ]
  },
  {
   "cell_type": "markdown",
   "metadata": {},
   "source": [
    "The price Analysis of skin products\n",
    "1. Most purchased products are in the price range 10-20\n",
    "2. Most number of products are between 10-20$\n",
    "In skin care category, for expensive products People prefer to go to a store and physically test the product before purchasing. So most products are listed below $50 which is also the range that maximum customers invest on."
   ]
  },
  {
   "cell_type": "code",
   "execution_count": 48,
   "metadata": {
    "scrolled": true
   },
   "outputs": [
    {
     "data": {
      "text/plain": [
       "Text(0.5, 0, 'Price')"
      ]
     },
     "execution_count": 48,
     "metadata": {},
     "output_type": "execute_result"
    },
    {
     "data": {
      "image/png": "[encoded data removed]",
      "text/plain": [
       "<Figure size 432x288 with 2 Axes>"
      ]
     },
     "metadata": {
      "needs_background": "light"
     },
     "output_type": "display_data"
    }
   ],
   "source": [
    "fig,axes = plt.subplots(1,2)\n",
    "hair_price_ratings = sns.scatterplot(x='price', y='No_of_Rating', data=Amazon_haircare, ax = axes[0])\n",
    "hair_price_ratings.set_title('#Ratings vs price range', fontsize = 10, y =1.05)\n",
    "hair_price= sns.histplot(x = Amazon_haircare['price'], binwidth=10, ax = axes[1])\n",
    "hair_price.set_title('Price hair products', fontsize = 10, y =1.05)\n",
    "hair_price.set_xlabel(\"Price\", fontsize = 10)"
   ]
  },
  {
   "cell_type": "code",
   "execution_count": 49,
   "metadata": {},
   "outputs": [
    {
     "data": {
      "image/png": "[encoded data removed]",
      "text/plain": [
       "<Figure size 360x360 with 1 Axes>"
      ]
     },
     "metadata": {
      "needs_background": "light"
     },
     "output_type": "display_data"
    }
   ],
   "source": [
    "#scatterplot - haircare\n",
    "sns.lmplot( x=\"price\", y=\"No_of_Rating\", data=Amazon_haircare, fit_reg=False)\n",
    "plt.ylim(0, None)\n",
    "plt.xlim(0, 50)\n",
    "plt.show()"
   ]
  },
  {
   "cell_type": "markdown",
   "metadata": {},
   "source": [
    "The price analysis of hair products\n",
    "Maximum products are listed between $0-30 but on average people spend slightly more money on hair products compared to skin products. \n",
    "More products in the range of $30-40 can be listed"
   ]
  },
  {
   "cell_type": "code",
   "execution_count": 50,
   "metadata": {},
   "outputs": [
    {
     "data": {
      "text/plain": [
       "Text(0.5, 0, 'Price')"
      ]
     },
     "execution_count": 50,
     "metadata": {},
     "output_type": "execute_result"
    },
    {
     "data": {
      "image/png": "[encoded data removed]",
      "text/plain": [
       "<Figure size 432x288 with 2 Axes>"
      ]
     },
     "metadata": {
      "needs_background": "light"
     },
     "output_type": "display_data"
    }
   ],
   "source": [
    "fig,axes = plt.subplots(1,2)\n",
    "hair_price_ratings = sns.scatterplot(x='price', y='No_of_Rating', data=Amazon_makeup, ax = axes[0])\n",
    "hair_price_ratings.set_title('#Ratings vs price range', fontsize = 10, y =1.05)\n",
    "hair_price= sns.histplot(x = Amazon_haircare['price'], binwidth=20, ax = axes[1])\n",
    "hair_price.set_title('Price makeup', fontsize = 10, y =1.05)\n",
    "hair_price.set_xlabel(\"Price\", fontsize = 10)"
   ]
  },
  {
   "cell_type": "code",
   "execution_count": 51,
   "metadata": {},
   "outputs": [
    {
     "data": {
      "image/png": "[encoded data removed]",
      "text/plain": [
       "<Figure size 360x360 with 1 Axes>"
      ]
     },
     "metadata": {
      "needs_background": "light"
     },
     "output_type": "display_data"
    }
   ],
   "source": [
    "# basic scatterplot\n",
    "sns.lmplot( x=\"price\", y=\"No_of_Rating\", data=Amazon_makeup, fit_reg=False)\n",
    "plt.ylim(0, None)\n",
    "plt.xlim(0, 50)\n",
    "plt.show()"
   ]
  },
  {
   "cell_type": "raw",
   "metadata": {},
   "source": [
    "Analysis of Makeup Products\n",
    "Like skincare product, people tend to spend less on makeup product online\n",
    "Most purchased products are under $10 also most listed products are under $10."
   ]
  },
  {
   "cell_type": "code",
   "execution_count": null,
   "metadata": {},
   "outputs": [],
   "source": [
    "#fragrance"
   ]
  },
  {
   "cell_type": "code",
   "execution_count": 53,
   "metadata": {},
   "outputs": [
    {
     "data": {
      "text/plain": [
       "Text(0.5, 0, 'Price')"
      ]
     },
     "execution_count": 53,
     "metadata": {},
     "output_type": "execute_result"
    },
    {
     "data": {
      "image/png": "[encoded data removed]",
      "text/plain": [
       "<Figure size 432x288 with 2 Axes>"
      ]
     },
     "metadata": {
      "needs_background": "light"
     },
     "output_type": "display_data"
    }
   ],
   "source": [
    "fig,axes = plt.subplots(1,2)\n",
    "hair_price_ratings = sns.scatterplot(x='price', y='No_of_Rating', data=Amazon_fragrance, ax = axes[0])\n",
    "hair_price_ratings.set_title('#Ratings vs price range', fontsize = 10, y =1.05)\n",
    "hair_price= sns.histplot(x = Amazon_fragrance['price'], binwidth=20, ax = axes[1])\n",
    "hair_price.set_title('Price fragrance', fontsize = 10, y =1.0)\n",
    "hair_price.set_xlabel(\"Price\", fontsize = 10)"
   ]
  },
  {
   "cell_type": "code",
   "execution_count": 54,
   "metadata": {},
   "outputs": [
    {
     "data": {
      "image/png": "[encoded data removed]",
      "text/plain": [
       "<Figure size 360x360 with 1 Axes>"
      ]
     },
     "metadata": {
      "needs_background": "light"
     },
     "output_type": "display_data"
    }
   ],
   "source": [
    "sns.lmplot( x=\"price\", y=\"No_of_Rating\", data=Amazon_makeup, fit_reg=False)\n",
    "plt.ylim(0, None)\n",
    "plt.xlim(0, 50)\n",
    "plt.show()"
   ]
  },
  {
   "cell_type": "code",
   "execution_count": null,
   "metadata": {},
   "outputs": [],
   "source": [
    "#Personal Care"
   ]
  },
  {
   "cell_type": "code",
   "execution_count": 55,
   "metadata": {},
   "outputs": [
    {
     "data": {
      "text/plain": [
       "Text(0.5, 0, 'Price')"
      ]
     },
     "execution_count": 55,
     "metadata": {},
     "output_type": "execute_result"
    },
    {
     "data": {
      "image/png": "[encoded data removed]",
      "text/plain": [
       "<Figure size 432x288 with 2 Axes>"
      ]
     },
     "metadata": {
      "needs_background": "light"
     },
     "output_type": "display_data"
    }
   ],
   "source": [
    "fig,axes = plt.subplots(1,2)\n",
    "hair_price_ratings = sns.scatterplot(x='price', y='No_of_Rating', data=Amazon_personalcare, ax = axes[0])\n",
    "hair_price_ratings.set_title('#Ratings vs price range', fontsize = 10, y =1.05)\n",
    "hair_price= sns.histplot(x = Amazon_personalcare['price'], binwidth=20, ax = axes[1])\n",
    "hair_price.set_title('Price personalcare', fontsize = 10, y =1.0)\n",
    "hair_price.set_xlabel(\"Price\", fontsize = 10)"
   ]
  },
  {
   "cell_type": "code",
   "execution_count": 56,
   "metadata": {},
   "outputs": [
    {
     "data": {
      "image/png": "[encoded data removed]",
      "text/plain": [
       "<Figure size 360x360 with 1 Axes>"
      ]
     },
     "metadata": {
      "needs_background": "light"
     },
     "output_type": "display_data"
    }
   ],
   "source": [
    "sns.lmplot( x=\"price\", y=\"No_of_Rating\", data=Amazon_makeup, fit_reg=False)\n",
    "plt.ylim(0, None)\n",
    "plt.xlim(0, 50)\n",
    "plt.show()"
   ]
  },
  {
   "cell_type": "code",
   "execution_count": 7,
   "metadata": {},
   "outputs": [],
   "source": [
    "Amazon_skincare.to_csv('skincare.csv')\n",
    "Amazon_haircare.to_csv('haircare.csv')\n",
    "Amazon_makeup.to_csv('makeup.csv')\n",
    "Amazon_fragrance.to_csv('fragrance.csv')\n",
    "Amazon_personalcare.to_csv('personalcare.csv')"
   ]
  },
  {
   "cell_type": "code",
   "execution_count": null,
   "metadata": {},
   "outputs": [],
   "source": []
  }
 ],
 "metadata": {
  "kernelspec": {
   "display_name": "Python 3 (ipykernel)",
   "language": "python",
   "name": "python3"
  },
  "language_info": {
   "codemirror_mode": {
    "name": "ipython",
    "version": 3
   },
   "file_extension": ".py",
   "mimetype": "text/x-python",
   "name": "python",
   "nbconvert_exporter": "python",
   "pygments_lexer": "ipython3",
   "version": "3.9.12"
  }
 },
 "nbformat": 4,
 "nbformat_minor": 4
}
